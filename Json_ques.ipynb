{
  "nbformat": 4,
  "nbformat_minor": 0,
  "metadata": {
    "colab": {
      "provenance": [],
      "authorship_tag": "ABX9TyMSNxhvdmjb7sr3/kNdMRfR",
      "include_colab_link": true
    },
    "kernelspec": {
      "name": "python3",
      "display_name": "Python 3"
    },
    "language_info": {
      "name": "python"
    }
  },
  "cells": [
    {
      "cell_type": "markdown",
      "metadata": {
        "id": "view-in-github",
        "colab_type": "text"
      },
      "source": [
        "<a href=\"https://colab.research.google.com/github/Rabiya915/JSON/blob/main/Json_ques.ipynb\" target=\"_parent\"><img src=\"https://colab.research.google.com/assets/colab-badge.svg\" alt=\"Open In Colab\"/></a>"
      ]
    },
    {
      "cell_type": "code",
      "execution_count": 12,
      "metadata": {
        "id": "dj62H98pBbOo"
      },
      "outputs": [],
      "source": [
        "import csv\n",
        "import json\n",
        "\n",
        "def json_file_generate(csvfile, jsonfile):\n",
        "  data = {}\n",
        "\n",
        "  with open(\"CSV file.csv\", \"r\") as csvf:\n",
        "    csv_reader = csv.DictReader(csvf)\n",
        "\n",
        "    for row in csv_reader:\n",
        "      reg_no = row[\"Reg No.\"]\n",
        "      data[reg_no] = {\"name\" : row[\"Name\"],\n",
        "                 \"Mid_1_Marks\" : row[\"Mid_1\"],\n",
        "                 \"Mid_2_Marks\" : row[\"Mid_2\"],\n",
        "                 \"Total_Marks\" : row[\"Total Marks\"]\n",
        "                 }\n",
        "\n",
        "  with open(\"JSON FILE\", \"w\") as jsonf:\n",
        "   json.dump(data,jsonf,indent = 4)\n",
        "\n",
        "\n",
        "csvfile = 'CSV file.csv'\n",
        "jsonfile = 'student_details.json'\n",
        "json_file_generate(csvfile, jsonfile)\n",
        "\n"
      ]
    }
  ]
}